{
 "cells": [
  {
   "cell_type": "markdown",
   "id": "4b32c7f4-1b87-4d16-9441-9075629728a9",
   "metadata": {},
   "source": [
    "## Data Science Tools and Ecosystem"
   ]
  },
  {
   "cell_type": "markdown",
   "id": "29f25456-b29e-46e1-827e-3bb5709f7ac2",
   "metadata": {},
   "source": [
    "In this notebook, Data Science Tools and Ecosystem are summarized"
   ]
  },
  {
   "cell_type": "markdown",
   "id": "d4af5ad7-3960-4345-a123-2728fdc6ccfa",
   "metadata": {},
   "source": [
    "**Objectives:**\n",
    "* List popular languages for Data Science\n",
    "* Some of the popular languages that Data Scientists use are\n",
    "* Some of the commonly used libraries used by Data Scientists\n",
    "* examples of evaluating arithmetic expressions in Python"
   ]
  },
  {
   "cell_type": "markdown",
   "id": "23e1f97f-5d08-4d75-8406-dc94733150f0",
   "metadata": {},
   "source": [
    "Some of the popular languages that Data Scientists use are:"
   ]
  },
  {
   "cell_type": "markdown",
   "id": "8cb1c796-06db-4bec-8e91-bf190572d7c6",
   "metadata": {
    "tags": []
   },
   "source": [
    "1. Python\n",
    "2. R\n",
    "3. Julia\n",
    "4. Java\n",
    "5. SQL"
   ]
  },
  {
   "cell_type": "markdown",
   "id": "0e8352b1-9c38-4f26-9d85-6f4d7afe01ee",
   "metadata": {},
   "source": [
    "Some of the commonly used libraries used by Data Scientists include:"
   ]
  },
  {
   "cell_type": "markdown",
   "id": "6d0788a8-9209-4d30-b521-801937d2156e",
   "metadata": {},
   "source": [
    "1. Panda\n",
    "2. Numpy\n",
    "3. Matplotlib\n",
    "4. Scikit-learn"
   ]
  },
  {
   "cell_type": "markdown",
   "id": "97e786ac-26fd-43ba-aa7c-080343d12fac",
   "metadata": {},
   "source": [
    "\n",
    "| Data Science Tools  | \n",
    "|---------------------| \n",
    "| Jupyter Notebooks   | \n",
    "| Pandas   | \n",
    "|R Studio’s|\n",
    "| Pandas   | \n",
    "| Hadoop  | "
   ]
  },
  {
   "cell_type": "markdown",
   "id": "8001a577-3a02-4982-afdd-4ea40d46bd41",
   "metadata": {
    "tags": []
   },
   "source": [
    "#### Below are a few examples of evaluating arithmetic expressions in Python"
   ]
  },
  {
   "cell_type": "code",
   "execution_count": 4,
   "id": "650994c7-c817-4c0f-bd8c-00cd237c26cf",
   "metadata": {
    "tags": []
   },
   "outputs": [
    {
     "data": {
      "text/plain": [
       "17"
      ]
     },
     "execution_count": 4,
     "metadata": {},
     "output_type": "execute_result"
    }
   ],
   "source": [
    "# This a simple arithmetic expression to mutiply then add integers\n",
    "(3*4)+5"
   ]
  },
  {
   "cell_type": "code",
   "execution_count": 8,
   "id": "b9e55b0c-bb0a-4a63-b093-c3e134c7c565",
   "metadata": {
    "tags": []
   },
   "outputs": [
    {
     "data": {
      "text/plain": [
       "3.3333333333333335"
      ]
     },
     "execution_count": 8,
     "metadata": {},
     "output_type": "execute_result"
    }
   ],
   "source": [
    "hours = 200/60\n",
    "hours "
   ]
  },
  {
   "cell_type": "markdown",
   "id": "279b74f8-f65d-40bc-b28c-b451986b8b32",
   "metadata": {},
   "source": [
    "### Author\n",
    "Ng'andu Mwiiya"
   ]
  },
  {
   "cell_type": "code",
   "execution_count": null,
   "id": "a6566083-da6b-4e20-9577-f06b52cd4cd4",
   "metadata": {},
   "outputs": [],
   "source": []
  }
 ],
 "metadata": {
  "kernelspec": {
   "display_name": "Python",
   "language": "python",
   "name": "conda-env-python-py"
  },
  "language_info": {
   "codemirror_mode": {
    "name": "ipython",
    "version": 3
   },
   "file_extension": ".py",
   "mimetype": "text/x-python",
   "name": "python",
   "nbconvert_exporter": "python",
   "pygments_lexer": "ipython3",
   "version": "3.7.12"
  }
 },
 "nbformat": 4,
 "nbformat_minor": 5
}
